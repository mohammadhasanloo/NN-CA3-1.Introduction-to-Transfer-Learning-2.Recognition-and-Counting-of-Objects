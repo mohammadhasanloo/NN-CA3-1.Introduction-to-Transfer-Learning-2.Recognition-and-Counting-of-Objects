{
 "cells": [
  {
   "cell_type": "markdown",
   "metadata": {
    "id": "6P8MfQLEHW9E"
   },
   "source": [
    "# Q1"
   ]
  },
  {
   "cell_type": "markdown",
   "metadata": {
    "id": "fSaFy5_DXTpi"
   },
   "source": [
    "### Import libraries"
   ]
  },
  {
   "cell_type": "code",
   "execution_count": 1,
   "metadata": {
    "id": "TSbZsbiEgWe1"
   },
   "outputs": [],
   "source": [
    "import numpy as np\n",
    "import cv2\n",
    "import matplotlib.pyplot as plt\n",
    "import seaborn as sns\n",
    "\n",
    "import tensorflow_datasets as tfds\n",
    "import tensorflow as tf\n",
    "\n",
    "from sklearn.metrics import f1_score\n",
    "from sklearn.model_selection import train_test_split\n",
    "from sklearn.metrics import classification_report, confusion_matrix\n",
    "from keras.utils import to_categorical\n",
    "from keras.models import Model\n",
    "from keras.optimizers import SGD\n",
    "from keras.layers import Input, Conv2D, MaxPooling2D, Flatten, Dense, Dropout, ZeroPadding2D\n",
    "from keras.applications.vgg16 import VGG16"
   ]
  },
  {
   "cell_type": "code",
   "execution_count": 2,
   "metadata": {
    "id": "xwUlNuquF-9z"
   },
   "outputs": [],
   "source": [
    "tf.config.experimental.set_memory_growth(tf.config.list_physical_devices('GPU')[0], True)"
   ]
  },
  {
   "cell_type": "code",
   "execution_count": 3,
   "metadata": {
    "colab": {
     "base_uri": "https://localhost:8080/"
    },
    "id": "px8TuWegFHZc",
    "outputId": "5d79738e-2476-45ee-f01b-37e87edcca97"
   },
   "outputs": [
    {
     "name": "stdout",
     "output_type": "stream",
     "text": [
      "GPU found\n",
      "1 Physical GPUs, 1 Logical GPUs\n"
     ]
    }
   ],
   "source": [
    "# Check if GPU is available\n",
    "if tf.test.gpu_device_name():\n",
    "    print('GPU found')\n",
    "else:\n",
    "    print(\"No GPU found\")\n",
    "\n",
    "# Allocate GPU memory\n",
    "gpus = tf.config.experimental.list_physical_devices('GPU')\n",
    "if gpus:\n",
    "    try:\n",
    "        # Currently, memory growth needs to be the same across GPUs\n",
    "        for gpu in gpus:\n",
    "            tf.config.experimental.set_memory_growth(gpu, True)\n",
    "        logical_gpus = tf.config.experimental.list_logical_devices('GPU')\n",
    "        print(len(gpus), \"Physical GPUs,\", len(logical_gpus), \"Logical GPUs\")\n",
    "    except RuntimeError as e:\n",
    "        # Memory growth must be set before GPUs have been initialized\n",
    "        print(e)"
   ]
  },
  {
   "cell_type": "markdown",
   "metadata": {
    "id": "Q0peud1WHTf-"
   },
   "source": [
    "# II: METHOD"
   ]
  },
  {
   "cell_type": "markdown",
   "metadata": {
    "id": "MqmVeusOu_Gv"
   },
   "source": [
    "## B: Image Processing"
   ]
  },
  {
   "cell_type": "markdown",
   "metadata": {
    "id": "ijgTYCi6Of4y"
   },
   "source": [
    "### Load Dataset"
   ]
  },
  {
   "cell_type": "code",
   "execution_count": 4,
   "metadata": {
    "colab": {
     "base_uri": "https://localhost:8080/",
     "height": 168,
     "referenced_widgets": [
      "4d71b66cb9744f7186241db1db538a79",
      "239880861b424c118f3dc3d18e5d343f",
      "585316999e8f46e29339f45cfc3c548c",
      "867f4e7ae4744b4f99c678afa4eac889",
      "449dff60fae74ae59bc837788d8ac333",
      "558ac9271b844a1b91971497f9195108",
      "5cec389225e3481d9d896d75e50cee50",
      "9b1630fed4c7471e83b7082d9f7914dd",
      "5f5a0a15959a484fa5636809c22bc076",
      "06ea4561e503423aaac29cd322c3fa82",
      "d0fab118b6724405a1e613fc3715c67c",
      "d8ba2de4bc2e457d8a88b7579cae453d",
      "65230895aa7b4383aaffa0d3a22705f2",
      "dbc33a4745104272a80c5c5055dc2d10",
      "6b4c230bda3d4998a5146180b123796a",
      "ea847810120046fdb2088ee49a4e5da0",
      "b0aebddc5eb0488ba77037e61c1f0cec",
      "b13325acc1234526a2dbb8b8cd13a99a",
      "6074d869275b433bb7d1e95c16c83d83",
      "e5f1c901ca6642c7beb81ca3e7aa31fd",
      "39c8cb0d2cf14c8898ae7dc7fb0730f7",
      "5751d423a0c849a9b911694b50c0eb99",
      "9b27059ad58c428492f76128dd1c4188",
      "fe5885145f694b77bfdbfc82b6b6909c",
      "aab1566deaee4feb9a6d8b2789cb1d64",
      "65ee4b848d224ae1956a2c0473c24225",
      "b221548094cb4911bd8e04f2ce784bdc",
      "9a536f13bca34c28976f5d90e49dcf3b",
      "699c8023f01f4d68b95f36336deef6ca",
      "224afba180564daca1723636de243a20",
      "8d02baffbec14b75abe7f23c23789351",
      "011f3fc07498475090484f0b73364259",
      "90ab663afcf44f368a9fb736b9b3d028",
      "facc11ffaf2346e8bfcddcba0dfb6c7d",
      "dbb9c90e3d864d4e8f6f2db391c4a69b",
      "a93e015baa58442baf35bf5839b27160",
      "370c31b20b2145fbb7a388301cbdee45",
      "632ab6fd783044a6a6757040985b1250",
      "f42c81e27cec4fc8a6e6bd4fddabd12a",
      "57813a6b16e64b13a9c602629eaab75f",
      "554f6c9127d241a3a925c4cd5063b909",
      "2766de93cefe4bc5ad95144b18e52fb9",
      "285db4f154a540ebb64ca5185d7bd84c",
      "2ecc1f54e55742329feb1ba54ba1aab0"
     ]
    },
    "id": "YpcbU7fOJNeY",
    "outputId": "caf55767-0071-4e3b-fa55-3f1147b0e2c2"
   },
   "outputs": [
    {
     "name": "stdout",
     "output_type": "stream",
     "text": [
      "Downloading and preparing dataset Unknown size (download: Unknown size, generated: Unknown size, total: Unknown size) to /root/tensorflow_datasets/eurosat/rgb/2.0.0...\n"
     ]
    },
    {
     "data": {
      "application/vnd.jupyter.widget-view+json": {
       "model_id": "4d71b66cb9744f7186241db1db538a79",
       "version_major": 2,
       "version_minor": 0
      },
      "text/plain": [
       "Dl Completed...: 0 url [00:00, ? url/s]"
      ]
     },
     "metadata": {},
     "output_type": "display_data"
    },
    {
     "data": {
      "application/vnd.jupyter.widget-view+json": {
       "model_id": "d8ba2de4bc2e457d8a88b7579cae453d",
       "version_major": 2,
       "version_minor": 0
      },
      "text/plain": [
       "Dl Size...: 0 MiB [00:00, ? MiB/s]"
      ]
     },
     "metadata": {},
     "output_type": "display_data"
    },
    {
     "data": {
      "application/vnd.jupyter.widget-view+json": {
       "model_id": "9b27059ad58c428492f76128dd1c4188",
       "version_major": 2,
       "version_minor": 0
      },
      "text/plain": [
       "Extraction completed...: 0 file [00:00, ? file/s]"
      ]
     },
     "metadata": {},
     "output_type": "display_data"
    },
    {
     "data": {
      "application/vnd.jupyter.widget-view+json": {
       "model_id": "facc11ffaf2346e8bfcddcba0dfb6c7d",
       "version_major": 2,
       "version_minor": 0
      },
      "text/plain": [
       "Shuffling /root/tensorflow_datasets/eurosat/rgb/2.0.0.incompleteWJSY0J/eurosat-train.tfrecord*...:   0%|      …"
      ]
     },
     "metadata": {},
     "output_type": "display_data"
    },
    {
     "name": "stdout",
     "output_type": "stream",
     "text": [
      "Dataset eurosat downloaded and prepared to /root/tensorflow_datasets/eurosat/rgb/2.0.0. Subsequent calls will reuse this data.\n"
     ]
    }
   ],
   "source": [
    "ds, ds_info = tfds.load('eurosat/rgb', split='train', with_info=True)"
   ]
  },
  {
   "cell_type": "code",
   "execution_count": 5,
   "metadata": {
    "id": "NPpDyMILZXOd"
   },
   "outputs": [],
   "source": [
    "images = []\n",
    "labels = []\n",
    "\n",
    "for img in ds:\n",
    "  image = img['image']\n",
    "  label = img['label']\n",
    "\n",
    "\n",
    "  images.append(image)\n",
    "  labels.append(label.numpy())"
   ]
  },
  {
   "cell_type": "markdown",
   "metadata": {
    "id": "CrYm0VC7mRtU"
   },
   "source": [
    "### Save and display sample of each category"
   ]
  },
  {
   "cell_type": "code",
   "execution_count": 6,
   "metadata": {
    "colab": {
     "base_uri": "https://localhost:8080/",
     "height": 606
    },
    "id": "v34Kg9QDRLBK",
    "outputId": "c0876e53-a2d4-4c0e-a7ac-e1dd264bd1e0"
   },
   "outputs": [
    {
     "data": {
      "image/png": "[encoded data removed]",
      "text/plain": [
       "<Figure size 1500x800 with 10 Axes>"
      ]
     },
     "metadata": {},
     "output_type": "display_data"
    }
   ],
   "source": [
    "num_categories = len(set(labels))\n",
    "\n",
    "class_names = ['AnnualCrop', 'Forest', 'HerbaceousVegetation', 'Highway', 'Industrial', 'Pasture', 'PermanentCrop', 'Residential', 'River', 'SeaLake']\n",
    "\n",
    "category_images = [[] for i in range(num_categories)]\n",
    "\n",
    "for idx, label in enumerate(labels):\n",
    "  category_images[label-1].append(images[idx])\n",
    "\n",
    "# Show one image from each category\n",
    "fig, axes = plt.subplots(nrows=2, ncols=5, figsize=(15, 8))\n",
    "for i, img in enumerate(category_images):\n",
    "  ax = axes[int(i/5), i%5]\n",
    "  ax.imshow(img[0], cmap='gray')\n",
    "  ax.set_title(class_names[(i+1)%10])\n",
    "  ax.axis('off')\n",
    "plt.tight_layout()\n",
    "plt.show()"
   ]
  },
  {
   "cell_type": "markdown",
   "metadata": {
    "id": "JB0hieZiOjYg"
   },
   "source": [
    "### Preprocess each image of dataset"
   ]
  },
  {
   "cell_type": "code",
   "execution_count": 7,
   "metadata": {
    "id": "vCp-YDmpQsQb"
   },
   "outputs": [],
   "source": [
    "modified_images = []\n",
    "\n",
    "for indx, image in enumerate(images):\n",
    "\n",
    "  # Resize the image to (64, 64, 3)\n",
    "  if image.shape != (64, 64, 3):\n",
    "    image = cv2.resize(image.numpy(), (64, 64, 3))\n",
    "    \n",
    "  # Scale the image\n",
    "  image = np.divide(image, 255.0)\n",
    "\n",
    "  modified_images.append(image)\n",
    "\n",
    "modified_images = np.array(modified_images)\n",
    "labels = np.array(labels)"
   ]
  },
  {
   "cell_type": "markdown",
   "metadata": {
    "id": "R2tAF4EIOtXG"
   },
   "source": [
    "### Split dataset to training, validation and test sets"
   ]
  },
  {
   "cell_type": "code",
   "execution_count": 8,
   "metadata": {
    "colab": {
     "base_uri": "https://localhost:8080/"
    },
    "id": "NwtmhD-iOqzx",
    "outputId": "95ae3c02-d052-4735-f009-68b1873f0c9f"
   },
   "outputs": [
    {
     "name": "stdout",
     "output_type": "stream",
     "text": [
      "Train Shape: (21600, 64, 64, 3)\n",
      "Test Shape: (5400, 64, 64, 3)\n"
     ]
    }
   ],
   "source": [
    "X_train, X_test, y_train, y_test = train_test_split(modified_images, labels, test_size=0.2, stratify=labels)\n",
    "\n",
    "y_train = to_categorical(y_train)\n",
    "y_test = to_categorical(y_test)\n",
    "\n",
    "print(f'Train Shape: {X_train.shape}')\n",
    "print(f'Test Shape: {X_test.shape}')"
   ]
  },
  {
   "cell_type": "markdown",
   "metadata": {
    "id": "1MZiCK2oGdCY"
   },
   "source": [
    "## A: Modeling"
   ]
  },
  {
   "cell_type": "markdown",
   "metadata": {
    "id": "GiN_ZExRGk3N"
   },
   "source": [
    "### Use transfer learning\n",
    "Use transfer learning to use VGG16 weights and biases"
   ]
  },
  {
   "cell_type": "code",
   "execution_count": 9,
   "metadata": {
    "colab": {
     "base_uri": "https://localhost:8080/"
    },
    "id": "_QsmUcYQByxk",
    "outputId": "34642698-d5c8-4583-e4e6-394729aa8109"
   },
   "outputs": [
    {
     "name": "stdout",
     "output_type": "stream",
     "text": [
      "Downloading data from https://storage.googleapis.com/tensorflow/keras-applications/vgg16/vgg16_weights_tf_dim_ordering_tf_kernels_notop.h5\n",
      "58889256/58889256 [==============================] - 1s 0us/step\n",
      "Model: \"vgg16\"\n",
      "_________________________________________________________________\n",
      " Layer (type)                Output Shape              Param #   \n",
      "=================================================================\n",
      " input_1 (InputLayer)        [(None, 64, 64, 3)]       0         \n",
      "                                                                 \n",
      " block1_conv1 (Conv2D)       (None, 64, 64, 64)        1792      \n",
      "                                                                 \n",
      " block1_conv2 (Conv2D)       (None, 64, 64, 64)        36928     \n",
      "                                                                 \n",
      " block1_pool (MaxPooling2D)  (None, 32, 32, 64)        0         \n",
      "                                                                 \n",
      " block2_conv1 (Conv2D)       (None, 32, 32, 128)       73856     \n",
      "                                                                 \n",
      " block2_conv2 (Conv2D)       (None, 32, 32, 128)       147584    \n",
      "                                                                 \n",
      " block2_pool (MaxPooling2D)  (None, 16, 16, 128)       0         \n",
      "                                                                 \n",
      " block3_conv1 (Conv2D)       (None, 16, 16, 256)       295168    \n",
      "                                                                 \n",
      " block3_conv2 (Conv2D)       (None, 16, 16, 256)       590080    \n",
      "                                                                 \n",
      " block3_conv3 (Conv2D)       (None, 16, 16, 256)       590080    \n",
      "                                                                 \n",
      " block3_pool (MaxPooling2D)  (None, 8, 8, 256)         0         \n",
      "                                                                 \n",
      " block4_conv1 (Conv2D)       (None, 8, 8, 512)         1180160   \n",
      "                                                                 \n",
      " block4_conv2 (Conv2D)       (None, 8, 8, 512)         2359808   \n",
      "                                                                 \n",
      " block4_conv3 (Conv2D)       (None, 8, 8, 512)         2359808   \n",
      "                                                                 \n",
      " block4_pool (MaxPooling2D)  (None, 4, 4, 512)         0         \n",
      "                                                                 \n",
      " block5_conv1 (Conv2D)       (None, 4, 4, 512)         2359808   \n",
      "                                                                 \n",
      " block5_conv2 (Conv2D)       (None, 4, 4, 512)         2359808   \n",
      "                                                                 \n",
      " block5_conv3 (Conv2D)       (None, 4, 4, 512)         2359808   \n",
      "                                                                 \n",
      " block5_pool (MaxPooling2D)  (None, 2, 2, 512)         0         \n",
      "                                                                 \n",
      "=================================================================\n",
      "Total params: 14,714,688\n",
      "Trainable params: 0\n",
      "Non-trainable params: 14,714,688\n",
      "_________________________________________________________________\n"
     ]
    }
   ],
   "source": [
    "base_model = VGG16(weights=\"imagenet\", include_top=False, input_shape=(64, 64, 3))\n",
    "base_model.trainable = False\n",
    "base_model.summary()"
   ]
  },
  {
   "cell_type": "code",
   "execution_count": 10,
   "metadata": {
    "colab": {
     "base_uri": "https://localhost:8080/"
    },
    "id": "xHaaQI0tBZzC",
    "outputId": "bee1229a-b03d-4d34-a44a-f8a5807cb702"
   },
   "outputs": [
    {
     "name": "stdout",
     "output_type": "stream",
     "text": [
      "Model: \"model\"\n",
      "_________________________________________________________________\n",
      " Layer (type)                Output Shape              Param #   \n",
      "=================================================================\n",
      " input_1 (InputLayer)        [(None, 64, 64, 3)]       0         \n",
      "                                                                 \n",
      " block1_conv1 (Conv2D)       (None, 64, 64, 64)        1792      \n",
      "                                                                 \n",
      " block1_conv2 (Conv2D)       (None, 64, 64, 64)        36928     \n",
      "                                                                 \n",
      " block1_pool (MaxPooling2D)  (None, 32, 32, 64)        0         \n",
      "                                                                 \n",
      " block2_conv1 (Conv2D)       (None, 32, 32, 128)       73856     \n",
      "                                                                 \n",
      " block2_conv2 (Conv2D)       (None, 32, 32, 128)       147584    \n",
      "                                                                 \n",
      " block2_pool (MaxPooling2D)  (None, 16, 16, 128)       0         \n",
      "                                                                 \n",
      " block3_conv1 (Conv2D)       (None, 16, 16, 256)       295168    \n",
      "                                                                 \n",
      " block3_conv2 (Conv2D)       (None, 16, 16, 256)       590080    \n",
      "                                                                 \n",
      " block3_conv3 (Conv2D)       (None, 16, 16, 256)       590080    \n",
      "                                                                 \n",
      " block3_pool (MaxPooling2D)  (None, 8, 8, 256)         0         \n",
      "                                                                 \n",
      " block4_conv1 (Conv2D)       (None, 8, 8, 512)         1180160   \n",
      "                                                                 \n",
      " block4_conv2 (Conv2D)       (None, 8, 8, 512)         2359808   \n",
      "                                                                 \n",
      " block4_conv3 (Conv2D)       (None, 8, 8, 512)         2359808   \n",
      "                                                                 \n",
      " block4_pool (MaxPooling2D)  (None, 4, 4, 512)         0         \n",
      "                                                                 \n",
      " block5_conv1 (Conv2D)       (None, 4, 4, 512)         2359808   \n",
      "                                                                 \n",
      " block5_conv2 (Conv2D)       (None, 4, 4, 512)         2359808   \n",
      "                                                                 \n",
      " block5_conv3 (Conv2D)       (None, 4, 4, 512)         2359808   \n",
      "                                                                 \n",
      " block5_pool (MaxPooling2D)  (None, 2, 2, 512)         0         \n",
      "                                                                 \n",
      " flatten (Flatten)           (None, 2048)              0         \n",
      "                                                                 \n",
      " dense (Dense)               (None, 4096)              8392704   \n",
      "                                                                 \n",
      " dropout (Dropout)           (None, 4096)              0         \n",
      "                                                                 \n",
      " dense_1 (Dense)             (None, 1000)              4097000   \n",
      "                                                                 \n",
      " dropout_1 (Dropout)         (None, 1000)              0         \n",
      "                                                                 \n",
      " dense_2 (Dense)             (None, 10)                10010     \n",
      "                                                                 \n",
      "=================================================================\n",
      "Total params: 27,214,402\n",
      "Trainable params: 12,499,714\n",
      "Non-trainable params: 14,714,688\n",
      "_________________________________________________________________\n"
     ]
    }
   ],
   "source": [
    "x = base_model.output\n",
    "x = Flatten()(x)\n",
    "x = Dense(4096, activation='relu')(x)\n",
    "x = Dropout(0.5)(x)\n",
    "x = Dense(1000, activation='relu')(x)\n",
    "x = Dropout(0.5)(x)\n",
    "predictions = Dense(num_categories, activation='softmax')(x)\n",
    "\n",
    "model = Model(inputs=base_model.input, outputs=predictions)\n",
    "\n",
    "model.summary()"
   ]
  },
  {
   "cell_type": "markdown",
   "metadata": {
    "id": "Lvtb1dMcG43X"
   },
   "source": [
    "## C, D: Training and Testing"
   ]
  },
  {
   "cell_type": "code",
   "execution_count": 11,
   "metadata": {
    "colab": {
     "base_uri": "https://localhost:8080/"
    },
    "id": "7jr7hscXZdcj",
    "outputId": "f5620245-a08b-4d97-8f8b-fcf9b550033b"
   },
   "outputs": [
    {
     "name": "stdout",
     "output_type": "stream",
     "text": [
      "Epoch 1/40\n",
      "675/675 [==============================] - 30s 29ms/step - loss: 1.1831 - accuracy: 0.5699 - precision: 0.7494 - val_loss: 0.7498 - val_accuracy: 0.7470 - val_precision: 0.8442\n",
      "Epoch 2/40\n",
      "675/675 [==============================] - 15s 22ms/step - loss: 0.8168 - accuracy: 0.7042 - precision: 0.7899 - val_loss: 0.6731 - val_accuracy: 0.7561 - val_precision: 0.8155\n",
      "Epoch 3/40\n",
      "675/675 [==============================] - 15s 22ms/step - loss: 0.7188 - accuracy: 0.7455 - precision: 0.8101 - val_loss: 0.5618 - val_accuracy: 0.8076 - val_precision: 0.8640\n",
      "Epoch 4/40\n",
      "675/675 [==============================] - 17s 25ms/step - loss: 0.6550 - accuracy: 0.7674 - precision: 0.8274 - val_loss: 0.5356 - val_accuracy: 0.8237 - val_precision: 0.8679\n",
      "Epoch 5/40\n",
      "675/675 [==============================] - 17s 25ms/step - loss: 0.6204 - accuracy: 0.7821 - precision: 0.8325 - val_loss: 0.5224 - val_accuracy: 0.8248 - val_precision: 0.8631\n",
      "Epoch 6/40\n",
      "675/675 [==============================] - 17s 25ms/step - loss: 0.5897 - accuracy: 0.7957 - precision: 0.8418 - val_loss: 0.4985 - val_accuracy: 0.8313 - val_precision: 0.8724\n",
      "Epoch 7/40\n",
      "675/675 [==============================] - 17s 26ms/step - loss: 0.5718 - accuracy: 0.8012 - precision: 0.8462 - val_loss: 0.4705 - val_accuracy: 0.8317 - val_precision: 0.8659\n",
      "Epoch 8/40\n",
      "675/675 [==============================] - 15s 22ms/step - loss: 0.5454 - accuracy: 0.8103 - precision: 0.8542 - val_loss: 0.4748 - val_accuracy: 0.8304 - val_precision: 0.8752\n",
      "Epoch 9/40\n",
      "675/675 [==============================] - 17s 26ms/step - loss: 0.5302 - accuracy: 0.8162 - precision: 0.8559 - val_loss: 0.4399 - val_accuracy: 0.8444 - val_precision: 0.8796\n",
      "Epoch 10/40\n",
      "675/675 [==============================] - 17s 26ms/step - loss: 0.5156 - accuracy: 0.8180 - precision: 0.8555 - val_loss: 0.4258 - val_accuracy: 0.8535 - val_precision: 0.8839\n",
      "Epoch 11/40\n",
      "675/675 [==============================] - 15s 22ms/step - loss: 0.5062 - accuracy: 0.8229 - precision: 0.8593 - val_loss: 0.4378 - val_accuracy: 0.8481 - val_precision: 0.8787\n",
      "Epoch 12/40\n",
      "675/675 [==============================] - 15s 22ms/step - loss: 0.5004 - accuracy: 0.8231 - precision: 0.8610 - val_loss: 0.4182 - val_accuracy: 0.8522 - val_precision: 0.8814\n",
      "Epoch 13/40\n",
      "675/675 [==============================] - 15s 23ms/step - loss: 0.4861 - accuracy: 0.8294 - precision: 0.8640 - val_loss: 0.4273 - val_accuracy: 0.8552 - val_precision: 0.8778\n",
      "Epoch 14/40\n",
      "675/675 [==============================] - 18s 26ms/step - loss: 0.4718 - accuracy: 0.8371 - precision: 0.8698 - val_loss: 0.4424 - val_accuracy: 0.8456 - val_precision: 0.8686\n",
      "Epoch 15/40\n",
      "675/675 [==============================] - 15s 23ms/step - loss: 0.4665 - accuracy: 0.8372 - precision: 0.8693 - val_loss: 0.4111 - val_accuracy: 0.8557 - val_precision: 0.8830\n",
      "Epoch 16/40\n",
      "675/675 [==============================] - 18s 26ms/step - loss: 0.4593 - accuracy: 0.8388 - precision: 0.8712 - val_loss: 0.4077 - val_accuracy: 0.8570 - val_precision: 0.8877\n",
      "Epoch 17/40\n",
      "675/675 [==============================] - 18s 26ms/step - loss: 0.4532 - accuracy: 0.8403 - precision: 0.8721 - val_loss: 0.3938 - val_accuracy: 0.8619 - val_precision: 0.8909\n",
      "Epoch 18/40\n",
      "675/675 [==============================] - 15s 23ms/step - loss: 0.4478 - accuracy: 0.8440 - precision: 0.8768 - val_loss: 0.4013 - val_accuracy: 0.8585 - val_precision: 0.8842\n",
      "Epoch 19/40\n",
      "675/675 [==============================] - 18s 26ms/step - loss: 0.4467 - accuracy: 0.8438 - precision: 0.8740 - val_loss: 0.4294 - val_accuracy: 0.8522 - val_precision: 0.8776\n",
      "Epoch 20/40\n",
      "675/675 [==============================] - 15s 23ms/step - loss: 0.4342 - accuracy: 0.8472 - precision: 0.8779 - val_loss: 0.3912 - val_accuracy: 0.8635 - val_precision: 0.8937\n",
      "Epoch 21/40\n",
      "675/675 [==============================] - 18s 26ms/step - loss: 0.4248 - accuracy: 0.8525 - precision: 0.8817 - val_loss: 0.3798 - val_accuracy: 0.8698 - val_precision: 0.8912\n",
      "Epoch 22/40\n",
      "675/675 [==============================] - 15s 23ms/step - loss: 0.4234 - accuracy: 0.8523 - precision: 0.8809 - val_loss: 0.4120 - val_accuracy: 0.8509 - val_precision: 0.8755\n",
      "Epoch 23/40\n",
      "675/675 [==============================] - 18s 26ms/step - loss: 0.4156 - accuracy: 0.8556 - precision: 0.8827 - val_loss: 0.3933 - val_accuracy: 0.8650 - val_precision: 0.8901\n",
      "Epoch 24/40\n",
      "675/675 [==============================] - 15s 23ms/step - loss: 0.4183 - accuracy: 0.8523 - precision: 0.8798 - val_loss: 0.3905 - val_accuracy: 0.8630 - val_precision: 0.8882\n",
      "Epoch 25/40\n",
      "675/675 [==============================] - 15s 22ms/step - loss: 0.4060 - accuracy: 0.8570 - precision: 0.8842 - val_loss: 0.3898 - val_accuracy: 0.8639 - val_precision: 0.8881\n",
      "Epoch 26/40\n",
      "675/675 [==============================] - 15s 23ms/step - loss: 0.4026 - accuracy: 0.8591 - precision: 0.8855 - val_loss: 0.3850 - val_accuracy: 0.8676 - val_precision: 0.8905\n",
      "Epoch 27/40\n",
      "675/675 [==============================] - 15s 22ms/step - loss: 0.4054 - accuracy: 0.8578 - precision: 0.8865 - val_loss: 0.3731 - val_accuracy: 0.8726 - val_precision: 0.8940\n",
      "Epoch 28/40\n",
      "675/675 [==============================] - 18s 26ms/step - loss: 0.4015 - accuracy: 0.8585 - precision: 0.8858 - val_loss: 0.3671 - val_accuracy: 0.8769 - val_precision: 0.8982\n",
      "Epoch 29/40\n",
      "675/675 [==============================] - 15s 23ms/step - loss: 0.3891 - accuracy: 0.8641 - precision: 0.8893 - val_loss: 0.3704 - val_accuracy: 0.8724 - val_precision: 0.8931\n",
      "Epoch 30/40\n",
      "675/675 [==============================] - 15s 22ms/step - loss: 0.3869 - accuracy: 0.8666 - precision: 0.8913 - val_loss: 0.3515 - val_accuracy: 0.8780 - val_precision: 0.8996\n",
      "Epoch 31/40\n",
      "675/675 [==============================] - 18s 26ms/step - loss: 0.3873 - accuracy: 0.8664 - precision: 0.8911 - val_loss: 0.3674 - val_accuracy: 0.8715 - val_precision: 0.8903\n",
      "Epoch 32/40\n",
      "675/675 [==============================] - 18s 26ms/step - loss: 0.3800 - accuracy: 0.8651 - precision: 0.8914 - val_loss: 0.3910 - val_accuracy: 0.8631 - val_precision: 0.8872\n",
      "Epoch 33/40\n",
      "675/675 [==============================] - 15s 22ms/step - loss: 0.3746 - accuracy: 0.8687 - precision: 0.8927 - val_loss: 0.3520 - val_accuracy: 0.8806 - val_precision: 0.9019\n",
      "Epoch 34/40\n",
      "675/675 [==============================] - 15s 22ms/step - loss: 0.3717 - accuracy: 0.8687 - precision: 0.8916 - val_loss: 0.3643 - val_accuracy: 0.8765 - val_precision: 0.8975\n",
      "Epoch 35/40\n",
      "675/675 [==============================] - 18s 26ms/step - loss: 0.3750 - accuracy: 0.8699 - precision: 0.8937 - val_loss: 0.3937 - val_accuracy: 0.8631 - val_precision: 0.8806\n",
      "Epoch 36/40\n",
      "675/675 [==============================] - 15s 22ms/step - loss: 0.3643 - accuracy: 0.8737 - precision: 0.8979 - val_loss: 0.3643 - val_accuracy: 0.8744 - val_precision: 0.8956\n",
      "Epoch 37/40\n",
      "675/675 [==============================] - 17s 26ms/step - loss: 0.3610 - accuracy: 0.8750 - precision: 0.8979 - val_loss: 0.3568 - val_accuracy: 0.8791 - val_precision: 0.9005\n",
      "Epoch 38/40\n",
      "675/675 [==============================] - 15s 22ms/step - loss: 0.3672 - accuracy: 0.8695 - precision: 0.8935 - val_loss: 0.3449 - val_accuracy: 0.8865 - val_precision: 0.9063\n",
      "Epoch 39/40\n",
      "675/675 [==============================] - 17s 26ms/step - loss: 0.3602 - accuracy: 0.8769 - precision: 0.8982 - val_loss: 0.3516 - val_accuracy: 0.8793 - val_precision: 0.9020\n",
      "Epoch 40/40\n",
      "675/675 [==============================] - 18s 26ms/step - loss: 0.3526 - accuracy: 0.8783 - precision: 0.8990 - val_loss: 0.3547 - val_accuracy: 0.8761 - val_precision: 0.8961\n"
     ]
    }
   ],
   "source": [
    "def f1_score_metric(y_true, y_pred):\n",
    "    return f1_score(tf.argmax(y_true, axis=1), tf.argmax(y_pred, axis=1), average='macro')\n",
    "\n",
    "sgd = SGD(learning_rate=0.001, momentum=0.9)\n",
    "model.compile(optimizer=sgd, loss='categorical_crossentropy', \n",
    "              metrics=['accuracy', tf.keras.metrics.Precision()])\n",
    "\n",
    "# train the model on your dataset\n",
    "with tf.device('/device:GPU:0'):\n",
    "  history = model.fit(X_train, y_train, batch_size=32, epochs=40, validation_data=(X_test, y_test))"
   ]
  },
  {
   "cell_type": "markdown",
   "metadata": {
    "id": "KYH7tYm_HcPY"
   },
   "source": [
    "# III: EXPERIMENTAL RESULTS AND ANALYSIS"
   ]
  },
  {
   "cell_type": "markdown",
   "metadata": {
    "id": "98ft8llzHpHv"
   },
   "source": [
    "## A: Expreimental Result"
   ]
  },
  {
   "cell_type": "markdown",
   "metadata": {
    "id": "-XbvDVCJ5wpH"
   },
   "source": [
    "### Show classification report and confusion matrix"
   ]
  },
  {
   "cell_type": "code",
   "execution_count": 12,
   "metadata": {
    "colab": {
     "base_uri": "https://localhost:8080/"
    },
    "id": "4Jutfus8a01M",
    "outputId": "9e14ad34-d5fa-44d1-f034-b8eca5f438f3"
   },
   "outputs": [
    {
     "name": "stdout",
     "output_type": "stream",
     "text": [
      "169/169 [==============================] - 3s 15ms/step\n",
      "Classification Report:\n",
      "              precision    recall  f1-score   support\n",
      "\n",
      "           0       0.91      0.89      0.90       600\n",
      "           1       0.92      0.89      0.91       600\n",
      "           2       0.90      0.87      0.88       600\n",
      "           3       0.75      0.86      0.80       500\n",
      "           4       0.93      0.95      0.94       500\n",
      "           5       0.71      0.90      0.80       400\n",
      "           6       0.90      0.75      0.82       500\n",
      "           7       0.94      0.95      0.94       600\n",
      "           8       0.83      0.76      0.79       500\n",
      "           9       0.96      0.93      0.94       600\n",
      "\n",
      "    accuracy                           0.88      5400\n",
      "   macro avg       0.87      0.87      0.87      5400\n",
      "weighted avg       0.88      0.88      0.88      5400\n",
      "\n",
      "Confusion Matrix:\n",
      "[[531   2   3  12   0  20   8   0  19   5]\n",
      " [  0 536   3   0   0  40   0   0   4  17]\n",
      " [  0  14 520  13   0  21  13  12   7   0]\n",
      " [ 12   0  10 428   7   6   8   3  26   0]\n",
      " [  1   0   0   5 473   0   6  15   0   0]\n",
      " [  2  14   6   4   0 361   2   0  11   0]\n",
      " [ 19   0  28  37  15  12 376   6   7   0]\n",
      " [  0   0   4   3  15   2   7 568   1   0]\n",
      " [ 16   3   5  71   1  22   0   1 381   0]\n",
      " [  5  11   1   0   0  22   0   0   4 557]]\n"
     ]
    }
   ],
   "source": [
    "y_pred = model.predict(X_test)\n",
    "\n",
    "y_pred_classes = np.argmax(y_pred, axis=1)\n",
    "y_test_classes = np.argmax(y_test, axis=1)\n",
    "\n",
    "# compute and print classification report and confusion matrix\n",
    "print('Classification Report:')\n",
    "print(classification_report(y_test_classes, y_pred_classes))\n",
    "print('Confusion Matrix:')\n",
    "print(confusion_matrix(y_test_classes, y_pred_classes))\n"
   ]
  },
  {
   "cell_type": "code",
   "execution_count": 13,
   "metadata": {
    "id": "gh8u9s23-55B"
   },
   "outputs": [],
   "source": [
    "def plot_accuracy(history):\n",
    "  \n",
    "    sns.set_style(\"darkgrid\")\n",
    "    plt.plot(history.history['accuracy'])\n",
    "    plt.plot(history.history['val_accuracy'])\n",
    "    plt.title('accuracy')\n",
    "    plt.ylabel('accuracy')\n",
    "    plt.xlabel('Epoch')\n",
    "    plt.legend(['Train', 'Val'], loc='upper left')\n",
    "    plt.show()    "
   ]
  },
  {
   "cell_type": "code",
   "execution_count": 14,
   "metadata": {
    "colab": {
     "base_uri": "https://localhost:8080/",
     "height": 472
    },
    "id": "C_XZRlwEAfOs",
    "outputId": "53d51990-8329-4a39-ddde-0c1b2fe36f66"
   },
   "outputs": [
    {
     "data": {
      "image/png": "[encoded data removed]",
      "text/plain": [
       "<Figure size 640x480 with 1 Axes>"
      ]
     },
     "metadata": {},
     "output_type": "display_data"
    }
   ],
   "source": [
    "plot_accuracy(history)"
   ]
  },
  {
   "cell_type": "code",
   "execution_count": 15,
   "metadata": {
    "id": "HEXtlRTB_Zeo"
   },
   "outputs": [],
   "source": [
    "def plot_loss(history):\n",
    "  \n",
    "    sns.set_style(\"darkgrid\")\n",
    "    plt.plot(history.history['loss'])\n",
    "    plt.plot(history.history['val_loss'])\n",
    "    plt.title('Model loss')\n",
    "    plt.ylabel('loss')\n",
    "    plt.xlabel('Epoch')\n",
    "    plt.legend(['Train', 'Val'], loc='upper left')\n",
    "    plt.show()  "
   ]
  },
  {
   "cell_type": "code",
   "execution_count": 16,
   "metadata": {
    "colab": {
     "base_uri": "https://localhost:8080/",
     "height": 472
    },
    "id": "80skxKKq_HUk",
    "outputId": "2c6b1cbf-473c-4cf4-a06c-421aedf12d70"
   },
   "outputs": [
    {
     "data": {
      "image/png": "[encoded data removed]",
      "text/plain": [
       "<Figure size 640x480 with 1 Axes>"
      ]
     },
     "metadata": {},
     "output_type": "display_data"
    }
   ],
   "source": [
    "plot_loss(history)"
   ]
  },
  {
   "cell_type": "code",
   "execution_count": 17,
   "metadata": {
    "id": "1L-PjUvaAlTP"
   },
   "outputs": [],
   "source": [
    "def plot_precision(history):\n",
    "  \n",
    "    sns.set_style(\"darkgrid\")\n",
    "    plt.plot(history.history['precision'])\n",
    "    plt.plot(history.history['val_precision'])\n",
    "    plt.title('precision')\n",
    "    plt.ylabel('precision')\n",
    "    plt.xlabel('Epoch')\n",
    "    plt.legend(['Train', 'Val'], loc='upper left')\n",
    "    plt.show()  "
   ]
  },
  {
   "cell_type": "code",
   "execution_count": 18,
   "metadata": {
    "colab": {
     "base_uri": "https://localhost:8080/",
     "height": 472
    },
    "id": "Pn8q_ccaAlWn",
    "outputId": "c083ab06-3f12-48fa-9677-bc81bb6bfe45"
   },
   "outputs": [
    {
     "data": {
      "image/png": "[encoded data removed]",
      "text/plain": [
       "<Figure size 640x480 with 1 Axes>"
      ]
     },
     "metadata": {},
     "output_type": "display_data"
    }
   ],
   "source": [
    "plot_precision(history)"
   ]
  }
 ],
 "metadata": {
  "accelerator": "GPU",
  "colab": {
   "provenance": []
  },
  "gpuClass": "standard",
  "kernelspec": {
   "display_name": "Python 3 (ipykernel)",
   "language": "python",
   "name": "python3"
  },
  "language_info": {
   "codemirror_mode": {
    "name": "ipython",
    "version": 3
   },
   "file_extension": ".py",
   "mimetype": "text/x-python",
   "name": "python",
   "nbconvert_exporter": "python",
   "pygments_lexer": "ipython3",
   "version": "3.10.2"
  },
  "widgets": {
   "application/vnd.jupyter.widget-state+json": {
    "011f3fc07498475090484f0b73364259": {
     "model_module": "@jupyter-widgets/base",
     "model_module_version": "1.2.0",
     "model_name": "LayoutModel",
     "state": {
      "_model_module": "@jupyter-widgets/base",
      "_model_module_version": "1.2.0",
      "_model_name": "LayoutModel",
      "_view_count": null,
      "_view_module": "@jupyter-widgets/base",
      "_view_module_version": "1.2.0",
      "_view_name": "LayoutView",
      "align_content": null,
      "align_items": null,
      "align_self": null,
      "border": null,
      "bottom": null,
      "display": null,
      "flex": null,
      "flex_flow": null,
      "grid_area": null,
      "grid_auto_columns": null,
      "grid_auto_flow": null,
      "grid_auto_rows": null,
      "grid_column": null,
      "grid_gap": null,
      "grid_row": null,
      "grid_template_areas": null,
      "grid_template_columns": null,
      "grid_template_rows": null,
      "height": null,
      "justify_content": null,
      "justify_items": null,
      "left": null,
      "margin": null,
      "max_height": null,
      "max_width": null,
      "min_height": null,
      "min_width": null,
      "object_fit": null,
      "object_position": null,
      "order": null,
      "overflow": null,
      "overflow_x": null,
      "overflow_y": null,
      "padding": null,
      "right": null,
      "top": null,
      "visibility": null,
      "width": null
     }
    },
    "06ea4561e503423aaac29cd322c3fa82": {
     "model_module": "@jupyter-widgets/base",
     "model_module_version": "1.2.0",
     "model_name": "LayoutModel",
     "state": {
      "_model_module": "@jupyter-widgets/base",
      "_model_module_version": "1.2.0",
      "_model_name": "LayoutModel",
      "_view_count": null,
      "_view_module": "@jupyter-widgets/base",
      "_view_module_version": "1.2.0",
      "_view_name": "LayoutView",
      "align_content": null,
      "align_items": null,
      "align_self": null,
      "border": null,
      "bottom": null,
      "display": null,
      "flex": null,
      "flex_flow": null,
      "grid_area": null,
      "grid_auto_columns": null,
      "grid_auto_flow": null,
      "grid_auto_rows": null,
      "grid_column": null,
      "grid_gap": null,
      "grid_row": null,
      "grid_template_areas": null,
      "grid_template_columns": null,
      "grid_template_rows": null,
      "height": null,
      "justify_content": null,
      "justify_items": null,
      "left": null,
      "margin": null,
      "max_height": null,
      "max_width": null,
      "min_height": null,
      "min_width": null,
      "object_fit": null,
      "object_position": null,
      "order": null,
      "overflow": null,
      "overflow_x": null,
      "overflow_y": null,
      "padding": null,
      "right": null,
      "top": null,
      "visibility": null,
      "width": null
     }
    },
    "224afba180564daca1723636de243a20": {
     "model_module": "@jupyter-widgets/base",
     "model_module_version": "1.2.0",
     "model_name": "LayoutModel",
     "state": {
      "_model_module": "@jupyter-widgets/base",
      "_model_module_version": "1.2.0",
      "_model_name": "LayoutModel",
      "_view_count": null,
      "_view_module": "@jupyter-widgets/base",
      "_view_module_version": "1.2.0",
      "_view_name": "LayoutView",
      "align_content": null,
      "align_items": null,
      "align_self": null,
      "border": null,
      "bottom": null,
      "display": null,
      "flex": null,
      "flex_flow": null,
      "grid_area": null,
      "grid_auto_columns": null,
      "grid_auto_flow": null,
      "grid_auto_rows": null,
      "grid_column": null,
      "grid_gap": null,
      "grid_row": null,
      "grid_template_areas": null,
      "grid_template_columns": null,
      "grid_template_rows": null,
      "height": null,
      "justify_content": null,
      "justify_items": null,
      "left": null,
      "margin": null,
      "max_height": null,
      "max_width": null,
      "min_height": null,
      "min_width": null,
      "object_fit": null,
      "object_position": null,
      "order": null,
      "overflow": null,
      "overflow_x": null,
      "overflow_y": null,
      "padding": null,
      "right": null,
      "top": null,
      "visibility": null,
      "width": "20px"
     }
    },
    "239880861b424c118f3dc3d18e5d343f": {
     "model_module": "@jupyter-widgets/controls",
     "model_module_version": "1.5.0",
     "model_name": "HTMLModel",
     "state": {
      "_dom_classes": [],
      "_model_module": "@jupyter-widgets/controls",
      "_model_module_version": "1.5.0",
      "_model_name": "HTMLModel",
      "_view_count": null,
      "_view_module": "@jupyter-widgets/controls",
      "_view_module_version": "1.5.0",
      "_view_name": "HTMLView",
      "description": "",
      "description_tooltip": null,
      "layout": "IPY_MODEL_558ac9271b844a1b91971497f9195108",
      "placeholder": "​",
      "style": "IPY_MODEL_5cec389225e3481d9d896d75e50cee50",
      "value": "Dl Completed...: 100%"
     }
    },
    "2766de93cefe4bc5ad95144b18e52fb9": {
     "model_module": "@jupyter-widgets/controls",
     "model_module_version": "1.5.0",
     "model_name": "ProgressStyleModel",
     "state": {
      "_model_module": "@jupyter-widgets/controls",
      "_model_module_version": "1.5.0",
      "_model_name": "ProgressStyleModel",
      "_view_count": null,
      "_view_module": "@jupyter-widgets/base",
      "_view_module_version": "1.2.0",
      "_view_name": "StyleView",
      "bar_color": null,
      "description_width": ""
     }
    },
    "285db4f154a540ebb64ca5185d7bd84c": {
     "model_module": "@jupyter-widgets/base",
     "model_module_version": "1.2.0",
     "model_name": "LayoutModel",
     "state": {
      "_model_module": "@jupyter-widgets/base",
      "_model_module_version": "1.2.0",
      "_model_name": "LayoutModel",
      "_view_count": null,
      "_view_module": "@jupyter-widgets/base",
      "_view_module_version": "1.2.0",
      "_view_name": "LayoutView",
      "align_content": null,
      "align_items": null,
      "align_self": null,
      "border": null,
      "bottom": null,
      "display": null,
      "flex": null,
      "flex_flow": null,
      "grid_area": null,
      "grid_auto_columns": null,
      "grid_auto_flow": null,
      "grid_auto_rows": null,
      "grid_column": null,
      "grid_gap": null,
      "grid_row": null,
      "grid_template_areas": null,
      "grid_template_columns": null,
      "grid_template_rows": null,
      "height": null,
      "justify_content": null,
      "justify_items": null,
      "left": null,
      "margin": null,
      "max_height": null,
      "max_width": null,
      "min_height": null,
      "min_width": null,
      "object_fit": null,
      "object_position": null,
      "order": null,
      "overflow": null,
      "overflow_x": null,
      "overflow_y": null,
      "padding": null,
      "right": null,
      "top": null,
      "visibility": null,
      "width": null
     }
    },
    "2ecc1f54e55742329feb1ba54ba1aab0": {
     "model_module": "@jupyter-widgets/controls",
     "model_module_version": "1.5.0",
     "model_name": "DescriptionStyleModel",
     "state": {
      "_model_module": "@jupyter-widgets/controls",
      "_model_module_version": "1.5.0",
      "_model_name": "DescriptionStyleModel",
      "_view_count": null,
      "_view_module": "@jupyter-widgets/base",
      "_view_module_version": "1.2.0",
      "_view_name": "StyleView",
      "description_width": ""
     }
    },
    "370c31b20b2145fbb7a388301cbdee45": {
     "model_module": "@jupyter-widgets/controls",
     "model_module_version": "1.5.0",
     "model_name": "HTMLModel",
     "state": {
      "_dom_classes": [],
      "_model_module": "@jupyter-widgets/controls",
      "_model_module_version": "1.5.0",
      "_model_name": "HTMLModel",
      "_view_count": null,
      "_view_module": "@jupyter-widgets/controls",
      "_view_module_version": "1.5.0",
      "_view_name": "HTMLView",
      "description": "",
      "description_tooltip": null,
      "layout": "IPY_MODEL_285db4f154a540ebb64ca5185d7bd84c",
      "placeholder": "​",
      "style": "IPY_MODEL_2ecc1f54e55742329feb1ba54ba1aab0",
      "value": " 22181/27000 [00:00&lt;00:00, 115790.82 examples/s]"
     }
    },
    "39c8cb0d2cf14c8898ae7dc7fb0730f7": {
     "model_module": "@jupyter-widgets/base",
     "model_module_version": "1.2.0",
     "model_name": "LayoutModel",
     "state": {
      "_model_module": "@jupyter-widgets/base",
      "_model_module_version": "1.2.0",
      "_model_name": "LayoutModel",
      "_view_count": null,
      "_view_module": "@jupyter-widgets/base",
      "_view_module_version": "1.2.0",
      "_view_name": "LayoutView",
      "align_content": null,
      "align_items": null,
      "align_self": null,
      "border": null,
      "bottom": null,
      "display": null,
      "flex": null,
      "flex_flow": null,
      "grid_area": null,
      "grid_auto_columns": null,
      "grid_auto_flow": null,
      "grid_auto_rows": null,
      "grid_column": null,
      "grid_gap": null,
      "grid_row": null,
      "grid_template_areas": null,
      "grid_template_columns": null,
      "grid_template_rows": null,
      "height": null,
      "justify_content": null,
      "justify_items": null,
      "left": null,
      "margin": null,
      "max_height": null,
      "max_width": null,
      "min_height": null,
      "min_width": null,
      "object_fit": null,
      "object_position": null,
      "order": null,
      "overflow": null,
      "overflow_x": null,
      "overflow_y": null,
      "padding": null,
      "right": null,
      "top": null,
      "visibility": null,
      "width": null
     }
    },
    "449dff60fae74ae59bc837788d8ac333": {
     "model_module": "@jupyter-widgets/base",
     "model_module_version": "1.2.0",
     "model_name": "LayoutModel",
     "state": {
      "_model_module": "@jupyter-widgets/base",
      "_model_module_version": "1.2.0",
      "_model_name": "LayoutModel",
      "_view_count": null,
      "_view_module": "@jupyter-widgets/base",
      "_view_module_version": "1.2.0",
      "_view_name": "LayoutView",
      "align_content": null,
      "align_items": null,
      "align_self": null,
      "border": null,
      "bottom": null,
      "display": null,
      "flex": null,
      "flex_flow": null,
      "grid_area": null,
      "grid_auto_columns": null,
      "grid_auto_flow": null,
      "grid_auto_rows": null,
      "grid_column": null,
      "grid_gap": null,
      "grid_row": null,
      "grid_template_areas": null,
      "grid_template_columns": null,
      "grid_template_rows": null,
      "height": null,
      "justify_content": null,
      "justify_items": null,
      "left": null,
      "margin": null,
      "max_height": null,
      "max_width": null,
      "min_height": null,
      "min_width": null,
      "object_fit": null,
      "object_position": null,
      "order": null,
      "overflow": null,
      "overflow_x": null,
      "overflow_y": null,
      "padding": null,
      "right": null,
      "top": null,
      "visibility": null,
      "width": null
     }
    },
    "4d71b66cb9744f7186241db1db538a79": {
     "model_module": "@jupyter-widgets/controls",
     "model_module_version": "1.5.0",
     "model_name": "HBoxModel",
     "state": {
      "_dom_classes": [],
      "_model_module": "@jupyter-widgets/controls",
      "_model_module_version": "1.5.0",
      "_model_name": "HBoxModel",
      "_view_count": null,
      "_view_module": "@jupyter-widgets/controls",
      "_view_module_version": "1.5.0",
      "_view_name": "HBoxView",
      "box_style": "",
      "children": [
       "IPY_MODEL_239880861b424c118f3dc3d18e5d343f",
       "IPY_MODEL_585316999e8f46e29339f45cfc3c548c",
       "IPY_MODEL_867f4e7ae4744b4f99c678afa4eac889"
      ],
      "layout": "IPY_MODEL_449dff60fae74ae59bc837788d8ac333"
     }
    },
    "554f6c9127d241a3a925c4cd5063b909": {
     "model_module": "@jupyter-widgets/base",
     "model_module_version": "1.2.0",
     "model_name": "LayoutModel",
     "state": {
      "_model_module": "@jupyter-widgets/base",
      "_model_module_version": "1.2.0",
      "_model_name": "LayoutModel",
      "_view_count": null,
      "_view_module": "@jupyter-widgets/base",
      "_view_module_version": "1.2.0",
      "_view_name": "LayoutView",
      "align_content": null,
      "align_items": null,
      "align_self": null,
      "border": null,
      "bottom": null,
      "display": null,
      "flex": null,
      "flex_flow": null,
      "grid_area": null,
      "grid_auto_columns": null,
      "grid_auto_flow": null,
      "grid_auto_rows": null,
      "grid_column": null,
      "grid_gap": null,
      "grid_row": null,
      "grid_template_areas": null,
      "grid_template_columns": null,
      "grid_template_rows": null,
      "height": null,
      "justify_content": null,
      "justify_items": null,
      "left": null,
      "margin": null,
      "max_height": null,
      "max_width": null,
      "min_height": null,
      "min_width": null,
      "object_fit": null,
      "object_position": null,
      "order": null,
      "overflow": null,
      "overflow_x": null,
      "overflow_y": null,
      "padding": null,
      "right": null,
      "top": null,
      "visibility": null,
      "width": null
     }
    },
    "558ac9271b844a1b91971497f9195108": {
     "model_module": "@jupyter-widgets/base",
     "model_module_version": "1.2.0",
     "model_name": "LayoutModel",
     "state": {
      "_model_module": "@jupyter-widgets/base",
      "_model_module_version": "1.2.0",
      "_model_name": "LayoutModel",
      "_view_count": null,
      "_view_module": "@jupyter-widgets/base",
      "_view_module_version": "1.2.0",
      "_view_name": "LayoutView",
      "align_content": null,
      "align_items": null,
      "align_self": null,
      "border": null,
      "bottom": null,
      "display": null,
      "flex": null,
      "flex_flow": null,
      "grid_area": null,
      "grid_auto_columns": null,
      "grid_auto_flow": null,
      "grid_auto_rows": null,
      "grid_column": null,
      "grid_gap": null,
      "grid_row": null,
      "grid_template_areas": null,
      "grid_template_columns": null,
      "grid_template_rows": null,
      "height": null,
      "justify_content": null,
      "justify_items": null,
      "left": null,
      "margin": null,
      "max_height": null,
      "max_width": null,
      "min_height": null,
      "min_width": null,
      "object_fit": null,
      "object_position": null,
      "order": null,
      "overflow": null,
      "overflow_x": null,
      "overflow_y": null,
      "padding": null,
      "right": null,
      "top": null,
      "visibility": null,
      "width": null
     }
    },
    "5751d423a0c849a9b911694b50c0eb99": {
     "model_module": "@jupyter-widgets/controls",
     "model_module_version": "1.5.0",
     "model_name": "DescriptionStyleModel",
     "state": {
      "_model_module": "@jupyter-widgets/controls",
      "_model_module_version": "1.5.0",
      "_model_name": "DescriptionStyleModel",
      "_view_count": null,
      "_view_module": "@jupyter-widgets/base",
      "_view_module_version": "1.2.0",
      "_view_name": "StyleView",
      "description_width": ""
     }
    },
    "57813a6b16e64b13a9c602629eaab75f": {
     "model_module": "@jupyter-widgets/controls",
     "model_module_version": "1.5.0",
     "model_name": "DescriptionStyleModel",
     "state": {
      "_model_module": "@jupyter-widgets/controls",
      "_model_module_version": "1.5.0",
      "_model_name": "DescriptionStyleModel",
      "_view_count": null,
      "_view_module": "@jupyter-widgets/base",
      "_view_module_version": "1.2.0",
      "_view_name": "StyleView",
      "description_width": ""
     }
    },
    "585316999e8f46e29339f45cfc3c548c": {
     "model_module": "@jupyter-widgets/controls",
     "model_module_version": "1.5.0",
     "model_name": "FloatProgressModel",
     "state": {
      "_dom_classes": [],
      "_model_module": "@jupyter-widgets/controls",
      "_model_module_version": "1.5.0",
      "_model_name": "FloatProgressModel",
      "_view_count": null,
      "_view_module": "@jupyter-widgets/controls",
      "_view_module_version": "1.5.0",
      "_view_name": "ProgressView",
      "bar_style": "info",
      "description": "",
      "description_tooltip": null,
      "layout": "IPY_MODEL_9b1630fed4c7471e83b7082d9f7914dd",
      "max": 1,
      "min": 0,
      "orientation": "horizontal",
      "style": "IPY_MODEL_5f5a0a15959a484fa5636809c22bc076",
      "value": 1
     }
    },
    "5cec389225e3481d9d896d75e50cee50": {
     "model_module": "@jupyter-widgets/controls",
     "model_module_version": "1.5.0",
     "model_name": "DescriptionStyleModel",
     "state": {
      "_model_module": "@jupyter-widgets/controls",
      "_model_module_version": "1.5.0",
      "_model_name": "DescriptionStyleModel",
      "_view_count": null,
      "_view_module": "@jupyter-widgets/base",
      "_view_module_version": "1.2.0",
      "_view_name": "StyleView",
      "description_width": ""
     }
    },
    "5f5a0a15959a484fa5636809c22bc076": {
     "model_module": "@jupyter-widgets/controls",
     "model_module_version": "1.5.0",
     "model_name": "ProgressStyleModel",
     "state": {
      "_model_module": "@jupyter-widgets/controls",
      "_model_module_version": "1.5.0",
      "_model_name": "ProgressStyleModel",
      "_view_count": null,
      "_view_module": "@jupyter-widgets/base",
      "_view_module_version": "1.2.0",
      "_view_name": "StyleView",
      "bar_color": null,
      "description_width": ""
     }
    },
    "6074d869275b433bb7d1e95c16c83d83": {
     "model_module": "@jupyter-widgets/base",
     "model_module_version": "1.2.0",
     "model_name": "LayoutModel",
     "state": {
      "_model_module": "@jupyter-widgets/base",
      "_model_module_version": "1.2.0",
      "_model_name": "LayoutModel",
      "_view_count": null,
      "_view_module": "@jupyter-widgets/base",
      "_view_module_version": "1.2.0",
      "_view_name": "LayoutView",
      "align_content": null,
      "align_items": null,
      "align_self": null,
      "border": null,
      "bottom": null,
      "display": null,
      "flex": null,
      "flex_flow": null,
      "grid_area": null,
      "grid_auto_columns": null,
      "grid_auto_flow": null,
      "grid_auto_rows": null,
      "grid_column": null,
      "grid_gap": null,
      "grid_row": null,
      "grid_template_areas": null,
      "grid_template_columns": null,
      "grid_template_rows": null,
      "height": null,
      "justify_content": null,
      "justify_items": null,
      "left": null,
      "margin": null,
      "max_height": null,
      "max_width": null,
      "min_height": null,
      "min_width": null,
      "object_fit": null,
      "object_position": null,
      "order": null,
      "overflow": null,
      "overflow_x": null,
      "overflow_y": null,
      "padding": null,
      "right": null,
      "top": null,
      "visibility": null,
      "width": "20px"
     }
    },
    "632ab6fd783044a6a6757040985b1250": {
     "model_module": "@jupyter-widgets/base",
     "model_module_version": "1.2.0",
     "model_name": "LayoutModel",
     "state": {
      "_model_module": "@jupyter-widgets/base",
      "_model_module_version": "1.2.0",
      "_model_name": "LayoutModel",
      "_view_count": null,
      "_view_module": "@jupyter-widgets/base",
      "_view_module_version": "1.2.0",
      "_view_name": "LayoutView",
      "align_content": null,
      "align_items": null,
      "align_self": null,
      "border": null,
      "bottom": null,
      "display": null,
      "flex": null,
      "flex_flow": null,
      "grid_area": null,
      "grid_auto_columns": null,
      "grid_auto_flow": null,
      "grid_auto_rows": null,
      "grid_column": null,
      "grid_gap": null,
      "grid_row": null,
      "grid_template_areas": null,
      "grid_template_columns": null,
      "grid_template_rows": null,
      "height": null,
      "justify_content": null,
      "justify_items": null,
      "left": null,
      "margin": null,
      "max_height": null,
      "max_width": null,
      "min_height": null,
      "min_width": null,
      "object_fit": null,
      "object_position": null,
      "order": null,
      "overflow": null,
      "overflow_x": null,
      "overflow_y": null,
      "padding": null,
      "right": null,
      "top": null,
      "visibility": "hidden",
      "width": null
     }
    },
    "65230895aa7b4383aaffa0d3a22705f2": {
     "model_module": "@jupyter-widgets/controls",
     "model_module_version": "1.5.0",
     "model_name": "HTMLModel",
     "state": {
      "_dom_classes": [],
      "_model_module": "@jupyter-widgets/controls",
      "_model_module_version": "1.5.0",
      "_model_name": "HTMLModel",
      "_view_count": null,
      "_view_module": "@jupyter-widgets/controls",
      "_view_module_version": "1.5.0",
      "_view_name": "HTMLView",
      "description": "",
      "description_tooltip": null,
      "layout": "IPY_MODEL_b0aebddc5eb0488ba77037e61c1f0cec",
      "placeholder": "​",
      "style": "IPY_MODEL_b13325acc1234526a2dbb8b8cd13a99a",
      "value": "Dl Size...: 100%"
     }
    },
    "65ee4b848d224ae1956a2c0473c24225": {
     "model_module": "@jupyter-widgets/controls",
     "model_module_version": "1.5.0",
     "model_name": "HTMLModel",
     "state": {
      "_dom_classes": [],
      "_model_module": "@jupyter-widgets/controls",
      "_model_module_version": "1.5.0",
      "_model_name": "HTMLModel",
      "_view_count": null,
      "_view_module": "@jupyter-widgets/controls",
      "_view_module_version": "1.5.0",
      "_view_name": "HTMLView",
      "description": "",
      "description_tooltip": null,
      "layout": "IPY_MODEL_011f3fc07498475090484f0b73364259",
      "placeholder": "​",
      "style": "IPY_MODEL_90ab663afcf44f368a9fb736b9b3d028",
      "value": " 26780/27000 [01:23&lt;00:00, 1033.81 file/s]"
     }
    },
    "699c8023f01f4d68b95f36336deef6ca": {
     "model_module": "@jupyter-widgets/controls",
     "model_module_version": "1.5.0",
     "model_name": "DescriptionStyleModel",
     "state": {
      "_model_module": "@jupyter-widgets/controls",
      "_model_module_version": "1.5.0",
      "_model_name": "DescriptionStyleModel",
      "_view_count": null,
      "_view_module": "@jupyter-widgets/base",
      "_view_module_version": "1.2.0",
      "_view_name": "StyleView",
      "description_width": ""
     }
    },
    "6b4c230bda3d4998a5146180b123796a": {
     "model_module": "@jupyter-widgets/controls",
     "model_module_version": "1.5.0",
     "model_name": "HTMLModel",
     "state": {
      "_dom_classes": [],
      "_model_module": "@jupyter-widgets/controls",
      "_model_module_version": "1.5.0",
      "_model_name": "HTMLModel",
      "_view_count": null,
      "_view_module": "@jupyter-widgets/controls",
      "_view_module_version": "1.5.0",
      "_view_name": "HTMLView",
      "description": "",
      "description_tooltip": null,
      "layout": "IPY_MODEL_39c8cb0d2cf14c8898ae7dc7fb0730f7",
      "placeholder": "​",
      "style": "IPY_MODEL_5751d423a0c849a9b911694b50c0eb99",
      "value": " 89/89 [01:23&lt;00:00, 25.50 MiB/s]"
     }
    },
    "867f4e7ae4744b4f99c678afa4eac889": {
     "model_module": "@jupyter-widgets/controls",
     "model_module_version": "1.5.0",
     "model_name": "HTMLModel",
     "state": {
      "_dom_classes": [],
      "_model_module": "@jupyter-widgets/controls",
      "_model_module_version": "1.5.0",
      "_model_name": "HTMLModel",
      "_view_count": null,
      "_view_module": "@jupyter-widgets/controls",
      "_view_module_version": "1.5.0",
      "_view_name": "HTMLView",
      "description": "",
      "description_tooltip": null,
      "layout": "IPY_MODEL_06ea4561e503423aaac29cd322c3fa82",
      "placeholder": "​",
      "style": "IPY_MODEL_d0fab118b6724405a1e613fc3715c67c",
      "value": " 1/1 [01:23&lt;00:00,  4.79s/ url]"
     }
    },
    "8d02baffbec14b75abe7f23c23789351": {
     "model_module": "@jupyter-widgets/controls",
     "model_module_version": "1.5.0",
     "model_name": "ProgressStyleModel",
     "state": {
      "_model_module": "@jupyter-widgets/controls",
      "_model_module_version": "1.5.0",
      "_model_name": "ProgressStyleModel",
      "_view_count": null,
      "_view_module": "@jupyter-widgets/base",
      "_view_module_version": "1.2.0",
      "_view_name": "StyleView",
      "bar_color": null,
      "description_width": ""
     }
    },
    "90ab663afcf44f368a9fb736b9b3d028": {
     "model_module": "@jupyter-widgets/controls",
     "model_module_version": "1.5.0",
     "model_name": "DescriptionStyleModel",
     "state": {
      "_model_module": "@jupyter-widgets/controls",
      "_model_module_version": "1.5.0",
      "_model_name": "DescriptionStyleModel",
      "_view_count": null,
      "_view_module": "@jupyter-widgets/base",
      "_view_module_version": "1.2.0",
      "_view_name": "StyleView",
      "description_width": ""
     }
    },
    "9a536f13bca34c28976f5d90e49dcf3b": {
     "model_module": "@jupyter-widgets/base",
     "model_module_version": "1.2.0",
     "model_name": "LayoutModel",
     "state": {
      "_model_module": "@jupyter-widgets/base",
      "_model_module_version": "1.2.0",
      "_model_name": "LayoutModel",
      "_view_count": null,
      "_view_module": "@jupyter-widgets/base",
      "_view_module_version": "1.2.0",
      "_view_name": "LayoutView",
      "align_content": null,
      "align_items": null,
      "align_self": null,
      "border": null,
      "bottom": null,
      "display": null,
      "flex": null,
      "flex_flow": null,
      "grid_area": null,
      "grid_auto_columns": null,
      "grid_auto_flow": null,
      "grid_auto_rows": null,
      "grid_column": null,
      "grid_gap": null,
      "grid_row": null,
      "grid_template_areas": null,
      "grid_template_columns": null,
      "grid_template_rows": null,
      "height": null,
      "justify_content": null,
      "justify_items": null,
      "left": null,
      "margin": null,
      "max_height": null,
      "max_width": null,
      "min_height": null,
      "min_width": null,
      "object_fit": null,
      "object_position": null,
      "order": null,
      "overflow": null,
      "overflow_x": null,
      "overflow_y": null,
      "padding": null,
      "right": null,
      "top": null,
      "visibility": null,
      "width": null
     }
    },
    "9b1630fed4c7471e83b7082d9f7914dd": {
     "model_module": "@jupyter-widgets/base",
     "model_module_version": "1.2.0",
     "model_name": "LayoutModel",
     "state": {
      "_model_module": "@jupyter-widgets/base",
      "_model_module_version": "1.2.0",
      "_model_name": "LayoutModel",
      "_view_count": null,
      "_view_module": "@jupyter-widgets/base",
      "_view_module_version": "1.2.0",
      "_view_name": "LayoutView",
      "align_content": null,
      "align_items": null,
      "align_self": null,
      "border": null,
      "bottom": null,
      "display": null,
      "flex": null,
      "flex_flow": null,
      "grid_area": null,
      "grid_auto_columns": null,
      "grid_auto_flow": null,
      "grid_auto_rows": null,
      "grid_column": null,
      "grid_gap": null,
      "grid_row": null,
      "grid_template_areas": null,
      "grid_template_columns": null,
      "grid_template_rows": null,
      "height": null,
      "justify_content": null,
      "justify_items": null,
      "left": null,
      "margin": null,
      "max_height": null,
      "max_width": null,
      "min_height": null,
      "min_width": null,
      "object_fit": null,
      "object_position": null,
      "order": null,
      "overflow": null,
      "overflow_x": null,
      "overflow_y": null,
      "padding": null,
      "right": null,
      "top": null,
      "visibility": null,
      "width": "20px"
     }
    },
    "9b27059ad58c428492f76128dd1c4188": {
     "model_module": "@jupyter-widgets/controls",
     "model_module_version": "1.5.0",
     "model_name": "HBoxModel",
     "state": {
      "_dom_classes": [],
      "_model_module": "@jupyter-widgets/controls",
      "_model_module_version": "1.5.0",
      "_model_name": "HBoxModel",
      "_view_count": null,
      "_view_module": "@jupyter-widgets/controls",
      "_view_module_version": "1.5.0",
      "_view_name": "HBoxView",
      "box_style": "",
      "children": [
       "IPY_MODEL_fe5885145f694b77bfdbfc82b6b6909c",
       "IPY_MODEL_aab1566deaee4feb9a6d8b2789cb1d64",
       "IPY_MODEL_65ee4b848d224ae1956a2c0473c24225"
      ],
      "layout": "IPY_MODEL_b221548094cb4911bd8e04f2ce784bdc"
     }
    },
    "a93e015baa58442baf35bf5839b27160": {
     "model_module": "@jupyter-widgets/controls",
     "model_module_version": "1.5.0",
     "model_name": "FloatProgressModel",
     "state": {
      "_dom_classes": [],
      "_model_module": "@jupyter-widgets/controls",
      "_model_module_version": "1.5.0",
      "_model_name": "FloatProgressModel",
      "_view_count": null,
      "_view_module": "@jupyter-widgets/controls",
      "_view_module_version": "1.5.0",
      "_view_name": "ProgressView",
      "bar_style": "",
      "description": "",
      "description_tooltip": null,
      "layout": "IPY_MODEL_554f6c9127d241a3a925c4cd5063b909",
      "max": 27000,
      "min": 0,
      "orientation": "horizontal",
      "style": "IPY_MODEL_2766de93cefe4bc5ad95144b18e52fb9",
      "value": 27000
     }
    },
    "aab1566deaee4feb9a6d8b2789cb1d64": {
     "model_module": "@jupyter-widgets/controls",
     "model_module_version": "1.5.0",
     "model_name": "FloatProgressModel",
     "state": {
      "_dom_classes": [],
      "_model_module": "@jupyter-widgets/controls",
      "_model_module_version": "1.5.0",
      "_model_name": "FloatProgressModel",
      "_view_count": null,
      "_view_module": "@jupyter-widgets/controls",
      "_view_module_version": "1.5.0",
      "_view_name": "ProgressView",
      "bar_style": "info",
      "description": "",
      "description_tooltip": null,
      "layout": "IPY_MODEL_224afba180564daca1723636de243a20",
      "max": 1,
      "min": 0,
      "orientation": "horizontal",
      "style": "IPY_MODEL_8d02baffbec14b75abe7f23c23789351",
      "value": 1
     }
    },
    "b0aebddc5eb0488ba77037e61c1f0cec": {
     "model_module": "@jupyter-widgets/base",
     "model_module_version": "1.2.0",
     "model_name": "LayoutModel",
     "state": {
      "_model_module": "@jupyter-widgets/base",
      "_model_module_version": "1.2.0",
      "_model_name": "LayoutModel",
      "_view_count": null,
      "_view_module": "@jupyter-widgets/base",
      "_view_module_version": "1.2.0",
      "_view_name": "LayoutView",
      "align_content": null,
      "align_items": null,
      "align_self": null,
      "border": null,
      "bottom": null,
      "display": null,
      "flex": null,
      "flex_flow": null,
      "grid_area": null,
      "grid_auto_columns": null,
      "grid_auto_flow": null,
      "grid_auto_rows": null,
      "grid_column": null,
      "grid_gap": null,
      "grid_row": null,
      "grid_template_areas": null,
      "grid_template_columns": null,
      "grid_template_rows": null,
      "height": null,
      "justify_content": null,
      "justify_items": null,
      "left": null,
      "margin": null,
      "max_height": null,
      "max_width": null,
      "min_height": null,
      "min_width": null,
      "object_fit": null,
      "object_position": null,
      "order": null,
      "overflow": null,
      "overflow_x": null,
      "overflow_y": null,
      "padding": null,
      "right": null,
      "top": null,
      "visibility": null,
      "width": null
     }
    },
    "b13325acc1234526a2dbb8b8cd13a99a": {
     "model_module": "@jupyter-widgets/controls",
     "model_module_version": "1.5.0",
     "model_name": "DescriptionStyleModel",
     "state": {
      "_model_module": "@jupyter-widgets/controls",
      "_model_module_version": "1.5.0",
      "_model_name": "DescriptionStyleModel",
      "_view_count": null,
      "_view_module": "@jupyter-widgets/base",
      "_view_module_version": "1.2.0",
      "_view_name": "StyleView",
      "description_width": ""
     }
    },
    "b221548094cb4911bd8e04f2ce784bdc": {
     "model_module": "@jupyter-widgets/base",
     "model_module_version": "1.2.0",
     "model_name": "LayoutModel",
     "state": {
      "_model_module": "@jupyter-widgets/base",
      "_model_module_version": "1.2.0",
      "_model_name": "LayoutModel",
      "_view_count": null,
      "_view_module": "@jupyter-widgets/base",
      "_view_module_version": "1.2.0",
      "_view_name": "LayoutView",
      "align_content": null,
      "align_items": null,
      "align_self": null,
      "border": null,
      "bottom": null,
      "display": null,
      "flex": null,
      "flex_flow": null,
      "grid_area": null,
      "grid_auto_columns": null,
      "grid_auto_flow": null,
      "grid_auto_rows": null,
      "grid_column": null,
      "grid_gap": null,
      "grid_row": null,
      "grid_template_areas": null,
      "grid_template_columns": null,
      "grid_template_rows": null,
      "height": null,
      "justify_content": null,
      "justify_items": null,
      "left": null,
      "margin": null,
      "max_height": null,
      "max_width": null,
      "min_height": null,
      "min_width": null,
      "object_fit": null,
      "object_position": null,
      "order": null,
      "overflow": null,
      "overflow_x": null,
      "overflow_y": null,
      "padding": null,
      "right": null,
      "top": null,
      "visibility": null,
      "width": null
     }
    },
    "d0fab118b6724405a1e613fc3715c67c": {
     "model_module": "@jupyter-widgets/controls",
     "model_module_version": "1.5.0",
     "model_name": "DescriptionStyleModel",
     "state": {
      "_model_module": "@jupyter-widgets/controls",
      "_model_module_version": "1.5.0",
      "_model_name": "DescriptionStyleModel",
      "_view_count": null,
      "_view_module": "@jupyter-widgets/base",
      "_view_module_version": "1.2.0",
      "_view_name": "StyleView",
      "description_width": ""
     }
    },
    "d8ba2de4bc2e457d8a88b7579cae453d": {
     "model_module": "@jupyter-widgets/controls",
     "model_module_version": "1.5.0",
     "model_name": "HBoxModel",
     "state": {
      "_dom_classes": [],
      "_model_module": "@jupyter-widgets/controls",
      "_model_module_version": "1.5.0",
      "_model_name": "HBoxModel",
      "_view_count": null,
      "_view_module": "@jupyter-widgets/controls",
      "_view_module_version": "1.5.0",
      "_view_name": "HBoxView",
      "box_style": "",
      "children": [
       "IPY_MODEL_65230895aa7b4383aaffa0d3a22705f2",
       "IPY_MODEL_dbc33a4745104272a80c5c5055dc2d10",
       "IPY_MODEL_6b4c230bda3d4998a5146180b123796a"
      ],
      "layout": "IPY_MODEL_ea847810120046fdb2088ee49a4e5da0"
     }
    },
    "dbb9c90e3d864d4e8f6f2db391c4a69b": {
     "model_module": "@jupyter-widgets/controls",
     "model_module_version": "1.5.0",
     "model_name": "HTMLModel",
     "state": {
      "_dom_classes": [],
      "_model_module": "@jupyter-widgets/controls",
      "_model_module_version": "1.5.0",
      "_model_name": "HTMLModel",
      "_view_count": null,
      "_view_module": "@jupyter-widgets/controls",
      "_view_module_version": "1.5.0",
      "_view_name": "HTMLView",
      "description": "",
      "description_tooltip": null,
      "layout": "IPY_MODEL_f42c81e27cec4fc8a6e6bd4fddabd12a",
      "placeholder": "​",
      "style": "IPY_MODEL_57813a6b16e64b13a9c602629eaab75f",
      "value": "Shuffling /root/tensorflow_datasets/eurosat/rgb/2.0.0.incompleteWJSY0J/eurosat-train.tfrecord*...:  82%"
     }
    },
    "dbc33a4745104272a80c5c5055dc2d10": {
     "model_module": "@jupyter-widgets/controls",
     "model_module_version": "1.5.0",
     "model_name": "FloatProgressModel",
     "state": {
      "_dom_classes": [],
      "_model_module": "@jupyter-widgets/controls",
      "_model_module_version": "1.5.0",
      "_model_name": "FloatProgressModel",
      "_view_count": null,
      "_view_module": "@jupyter-widgets/controls",
      "_view_module_version": "1.5.0",
      "_view_name": "ProgressView",
      "bar_style": "info",
      "description": "",
      "description_tooltip": null,
      "layout": "IPY_MODEL_6074d869275b433bb7d1e95c16c83d83",
      "max": 1,
      "min": 0,
      "orientation": "horizontal",
      "style": "IPY_MODEL_e5f1c901ca6642c7beb81ca3e7aa31fd",
      "value": 1
     }
    },
    "e5f1c901ca6642c7beb81ca3e7aa31fd": {
     "model_module": "@jupyter-widgets/controls",
     "model_module_version": "1.5.0",
     "model_name": "ProgressStyleModel",
     "state": {
      "_model_module": "@jupyter-widgets/controls",
      "_model_module_version": "1.5.0",
      "_model_name": "ProgressStyleModel",
      "_view_count": null,
      "_view_module": "@jupyter-widgets/base",
      "_view_module_version": "1.2.0",
      "_view_name": "StyleView",
      "bar_color": null,
      "description_width": ""
     }
    },
    "ea847810120046fdb2088ee49a4e5da0": {
     "model_module": "@jupyter-widgets/base",
     "model_module_version": "1.2.0",
     "model_name": "LayoutModel",
     "state": {
      "_model_module": "@jupyter-widgets/base",
      "_model_module_version": "1.2.0",
      "_model_name": "LayoutModel",
      "_view_count": null,
      "_view_module": "@jupyter-widgets/base",
      "_view_module_version": "1.2.0",
      "_view_name": "LayoutView",
      "align_content": null,
      "align_items": null,
      "align_self": null,
      "border": null,
      "bottom": null,
      "display": null,
      "flex": null,
      "flex_flow": null,
      "grid_area": null,
      "grid_auto_columns": null,
      "grid_auto_flow": null,
      "grid_auto_rows": null,
      "grid_column": null,
      "grid_gap": null,
      "grid_row": null,
      "grid_template_areas": null,
      "grid_template_columns": null,
      "grid_template_rows": null,
      "height": null,
      "justify_content": null,
      "justify_items": null,
      "left": null,
      "margin": null,
      "max_height": null,
      "max_width": null,
      "min_height": null,
      "min_width": null,
      "object_fit": null,
      "object_position": null,
      "order": null,
      "overflow": null,
      "overflow_x": null,
      "overflow_y": null,
      "padding": null,
      "right": null,
      "top": null,
      "visibility": null,
      "width": null
     }
    },
    "f42c81e27cec4fc8a6e6bd4fddabd12a": {
     "model_module": "@jupyter-widgets/base",
     "model_module_version": "1.2.0",
     "model_name": "LayoutModel",
     "state": {
      "_model_module": "@jupyter-widgets/base",
      "_model_module_version": "1.2.0",
      "_model_name": "LayoutModel",
      "_view_count": null,
      "_view_module": "@jupyter-widgets/base",
      "_view_module_version": "1.2.0",
      "_view_name": "LayoutView",
      "align_content": null,
      "align_items": null,
      "align_self": null,
      "border": null,
      "bottom": null,
      "display": null,
      "flex": null,
      "flex_flow": null,
      "grid_area": null,
      "grid_auto_columns": null,
      "grid_auto_flow": null,
      "grid_auto_rows": null,
      "grid_column": null,
      "grid_gap": null,
      "grid_row": null,
      "grid_template_areas": null,
      "grid_template_columns": null,
      "grid_template_rows": null,
      "height": null,
      "justify_content": null,
      "justify_items": null,
      "left": null,
      "margin": null,
      "max_height": null,
      "max_width": null,
      "min_height": null,
      "min_width": null,
      "object_fit": null,
      "object_position": null,
      "order": null,
      "overflow": null,
      "overflow_x": null,
      "overflow_y": null,
      "padding": null,
      "right": null,
      "top": null,
      "visibility": null,
      "width": null
     }
    },
    "facc11ffaf2346e8bfcddcba0dfb6c7d": {
     "model_module": "@jupyter-widgets/controls",
     "model_module_version": "1.5.0",
     "model_name": "HBoxModel",
     "state": {
      "_dom_classes": [],
      "_model_module": "@jupyter-widgets/controls",
      "_model_module_version": "1.5.0",
      "_model_name": "HBoxModel",
      "_view_count": null,
      "_view_module": "@jupyter-widgets/controls",
      "_view_module_version": "1.5.0",
      "_view_name": "HBoxView",
      "box_style": "",
      "children": [
       "IPY_MODEL_dbb9c90e3d864d4e8f6f2db391c4a69b",
       "IPY_MODEL_a93e015baa58442baf35bf5839b27160",
       "IPY_MODEL_370c31b20b2145fbb7a388301cbdee45"
      ],
      "layout": "IPY_MODEL_632ab6fd783044a6a6757040985b1250"
     }
    },
    "fe5885145f694b77bfdbfc82b6b6909c": {
     "model_module": "@jupyter-widgets/controls",
     "model_module_version": "1.5.0",
     "model_name": "HTMLModel",
     "state": {
      "_dom_classes": [],
      "_model_module": "@jupyter-widgets/controls",
      "_model_module_version": "1.5.0",
      "_model_name": "HTMLModel",
      "_view_count": null,
      "_view_module": "@jupyter-widgets/controls",
      "_view_module_version": "1.5.0",
      "_view_name": "HTMLView",
      "description": "",
      "description_tooltip": null,
      "layout": "IPY_MODEL_9a536f13bca34c28976f5d90e49dcf3b",
      "placeholder": "​",
      "style": "IPY_MODEL_699c8023f01f4d68b95f36336deef6ca",
      "value": "Extraction completed...:  99%"
     }
    }
   }
  }
 },
 "nbformat": 4,
 "nbformat_minor": 1
}
